{
 "cells": [
  {
   "cell_type": "code",
   "execution_count": 8,
   "id": "e8db5084",
   "metadata": {},
   "outputs": [],
   "source": [
    "# Question 10 Python\n",
    "# Encryption is the process of hiding the meaning of a text by substituting letters in the \n",
    "# message with other letters, according to some system. If the process is successful, no \n",
    "# one but the intended recipient can understand the encrypted message. Cryptanalysis\n",
    "# refers to attempts to undo the encryption, even if some details of the encryption are \n",
    "# unknown (for example, if an encrypted message has been intercepted). The first step \n",
    "# of cryptanalysis is often to build up a table of letter frequencies in the encrypted text. \n",
    "# Assume that the string letters is already defined as \n",
    "# 'abcdefghijklmnopqrstuvwxyz'. Write a function called frequencies()\n",
    "# that takes a string as its only parameter, and returns a list of integers, showing the \n",
    "# number of times each character appears in the text. Your function may ignore any \n",
    "# characters that are not in letters. \n",
    "\n",
    "def frequencies(text):\n",
    "\n",
    "\n",
    "    alphabets = ('a','b','c','d','e','f','g','h','i','j','k','l','m','n','o','p','q','r','s','t','u','v','w','x','y','z')\n",
    "\n",
    "    total_characters = []\n",
    "\n",
    "    alpha_dict = {}\n",
    "\n",
    "\n",
    "    for word in text:\n",
    "\n",
    "        for char in word:\n",
    "\n",
    "            if char.isalpha():\n",
    "\n",
    "                total_characters.append(char)\n",
    "\n",
    "\n",
    "    for char in alphabets:\n",
    "\n",
    "        if char in total_characters:\n",
    "\n",
    "            alpha_dict[char] = total_characters.count(char)\n",
    "\n",
    "        else:\n",
    "\n",
    "            alpha_dict[char] = 0      \n",
    "\n",
    "    print(list(alpha_dict.values()))"
   ]
  },
  {
   "cell_type": "code",
   "execution_count": 9,
   "id": "1fb19373",
   "metadata": {},
   "outputs": [
    {
     "name": "stdout",
     "output_type": "stream",
     "text": [
      "[1, 1, 1, 3, 5, 1, 1, 2, 1, 0, 1, 0, 1, 2, 4, 0, 1, 2, 0, 2, 1, 0, 1, 1, 0, 0]\n"
     ]
    }
   ],
   "source": [
    "frequencies('The quick red fox got bored and went home.')"
   ]
  },
  {
   "cell_type": "code",
   "execution_count": 10,
   "id": "38c65f4e",
   "metadata": {},
   "outputs": [
    {
     "name": "stdout",
     "output_type": "stream",
     "text": [
      "[1, 0, 0, 0, 1, 0, 0, 0, 0, 0, 0, 1, 0, 0, 0, 2, 0, 0, 0, 0, 0, 0, 0, 0, 0, 0]\n"
     ]
    }
   ],
   "source": [
    "frequencies('apple')"
   ]
  },
  {
   "cell_type": "code",
   "execution_count": null,
   "id": "9f98ab76",
   "metadata": {},
   "outputs": [],
   "source": []
  }
 ],
 "metadata": {
  "kernelspec": {
   "display_name": "Python 3 (ipykernel)",
   "language": "python",
   "name": "python3"
  },
  "language_info": {
   "codemirror_mode": {
    "name": "ipython",
    "version": 3
   },
   "file_extension": ".py",
   "mimetype": "text/x-python",
   "name": "python",
   "nbconvert_exporter": "python",
   "pygments_lexer": "ipython3",
   "version": "3.9.12"
  }
 },
 "nbformat": 4,
 "nbformat_minor": 5
}
