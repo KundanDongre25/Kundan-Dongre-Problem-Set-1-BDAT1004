{
 "cells": [
  {
   "cell_type": "code",
   "execution_count": 1,
   "id": "15310f7b",
   "metadata": {},
   "outputs": [
    {
     "name": "stdout",
     "output_type": "stream",
     "text": [
      "Please choose which currency you want to convert:\n",
      "A - Euro (Exchange Rate: 0.000807350908)\n",
      "B - Japanese Yen (Exchange Rate: 0.0919061643)\n",
      "C - Chinese RMB (Exchange Rate: 0.00603703605)\n",
      "D - Quit \n",
      "Enter your option: A\n",
      "Enter the amount: 445\n",
      "445 equals to 436.09999999999997 USD\n",
      "436.09999999999997\n"
     ]
    }
   ],
   "source": [
    "print(\"Please choose which currency you want to convert:\")\n",
    "print(\"A - Euro (Exchange Rate: 0.000807350908)\")\n",
    "print(\"B - Japanese Yen (Exchange Rate: 0.0919061643)\")\n",
    "print(\"C - Chinese RMB (Exchange Rate: 0.00603703605)\")\n",
    "print(\"D - Quit \")\n",
    "\n",
    "A=0\n",
    "B=0\n",
    "C=0\n",
    "D=0\n",
    "\n",
    "euro = 1\n",
    "yen = 1\n",
    "rmb = 1\n",
    "def main():\n",
    "    (option, amount,totalamount) = Input()  #modified\n",
    "    print(totalamount)  \n",
    "\n",
    "\n",
    "def Input():\n",
    "    option = input(\"Enter your option: \")\n",
    "    amount = eval(input(\"Enter the amount: \"))\n",
    "    totalamount=0 \n",
    "    if option == \"A\":\n",
    "        totalamount = (amount * 0.98)\n",
    "        print (str(amount) +\" equals to \"+str(totalamount)+\" USD\")\n",
    "    elif option== \"B\":\n",
    "        totalamount = (amount * 0.0068)\n",
    "        print (\"{} equals to {} Euro\".format(amount,totalamount))\n",
    "    elif option== \"C\":\n",
    "        totalamount = (amount * 0.14)\n",
    "        print (\"{} equals to {} Yen\".format(amount,totalamount))\n",
    "    else:\n",
    "        quit\n",
    "\n",
    "    return option,amount,totalamount\n",
    "\n",
    "\n",
    "main()"
   ]
  },
  {
   "cell_type": "code",
   "execution_count": null,
   "id": "f80bc93f",
   "metadata": {},
   "outputs": [],
   "source": []
  },
  {
   "cell_type": "code",
   "execution_count": null,
   "id": "b9dca19d",
   "metadata": {},
   "outputs": [],
   "source": []
  },
  {
   "cell_type": "code",
   "execution_count": null,
   "id": "8d072006",
   "metadata": {},
   "outputs": [],
   "source": []
  },
  {
   "cell_type": "code",
   "execution_count": null,
   "id": "915f5c38",
   "metadata": {},
   "outputs": [],
   "source": []
  },
  {
   "cell_type": "code",
   "execution_count": null,
   "id": "7a5e0aa2",
   "metadata": {},
   "outputs": [],
   "source": []
  }
 ],
 "metadata": {
  "kernelspec": {
   "display_name": "Python 3 (ipykernel)",
   "language": "python",
   "name": "python3"
  },
  "language_info": {
   "codemirror_mode": {
    "name": "ipython",
    "version": 3
   },
   "file_extension": ".py",
   "mimetype": "text/x-python",
   "name": "python",
   "nbconvert_exporter": "python",
   "pygments_lexer": "ipython3",
   "version": "3.9.12"
  }
 },
 "nbformat": 4,
 "nbformat_minor": 5
}
