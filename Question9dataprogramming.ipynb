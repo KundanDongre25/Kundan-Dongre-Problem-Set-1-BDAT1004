{
 "cells": [
  {
   "cell_type": "code",
   "execution_count": 1,
   "id": "c5946a8b",
   "metadata": {},
   "outputs": [
    {
     "ename": "TypeError",
     "evalue": "unsupported operand type(s) for +: 'int' and 'str'",
     "output_type": "error",
     "traceback": [
      "\u001b[1;31m---------------------------------------------------------------------------\u001b[0m",
      "\u001b[1;31mTypeError\u001b[0m                                 Traceback (most recent call last)",
      "Input \u001b[1;32mIn [1]\u001b[0m, in \u001b[0;36m<cell line: 3>\u001b[1;34m()\u001b[0m\n\u001b[0;32m      1\u001b[0m m\u001b[38;5;241m=\u001b[39m\u001b[38;5;241m6\u001b[39m\n\u001b[0;32m      2\u001b[0m n\u001b[38;5;241m=\u001b[39m\u001b[38;5;124m'\u001b[39m\u001b[38;5;124ma\u001b[39m\u001b[38;5;124m'\u001b[39m\n\u001b[1;32m----> 3\u001b[0m \u001b[38;5;28mprint\u001b[39m(\u001b[43mm\u001b[49m\u001b[38;5;241;43m+\u001b[39;49m\u001b[43mn\u001b[49m)\n\u001b[0;32m      7\u001b[0m \u001b[38;5;241m2.\u001b[39m\n\u001b[0;32m      9\u001b[0m my_list\u001b[38;5;241m=\u001b[39m[a,o,e,I,u,v]\n",
      "\u001b[1;31mTypeError\u001b[0m: unsupported operand type(s) for +: 'int' and 'str'"
     ]
    }
   ],
   "source": [
    "# Question 9 Python\n",
    "# Each of the following will cause an exception (an error). Identify what type of \n",
    "# exception each will cause\n",
    "\n",
    "m=6\n",
    "n='a'\n",
    "print(m+n)\n",
    "\n",
    " \n",
    "\n",
    "2.\n",
    "\n",
    "my_list=[a,o,e,I,u,v]\n",
    "print(my_list[11])\n",
    "\n",
    " \n",
    "\n",
    "4.\n",
    "\n",
    "print(k)\n",
    "\n",
    " \n",
    "\n",
    "5.\n",
    "\n",
    "k=open('myeyes.txt','r')\n",
    "print(k.read())"
   ]
  },
  {
   "cell_type": "code",
   "execution_count": null,
   "id": "63804184",
   "metadata": {},
   "outputs": [],
   "source": []
  }
 ],
 "metadata": {
  "kernelspec": {
   "display_name": "Python 3 (ipykernel)",
   "language": "python",
   "name": "python3"
  },
  "language_info": {
   "codemirror_mode": {
    "name": "ipython",
    "version": 3
   },
   "file_extension": ".py",
   "mimetype": "text/x-python",
   "name": "python",
   "nbconvert_exporter": "python",
   "pygments_lexer": "ipython3",
   "version": "3.9.12"
  }
 },
 "nbformat": 4,
 "nbformat_minor": 5
}
