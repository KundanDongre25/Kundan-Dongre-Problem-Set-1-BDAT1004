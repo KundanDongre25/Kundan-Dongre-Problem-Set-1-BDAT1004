{
 "cells": [
  {
   "cell_type": "code",
   "execution_count": 6,
   "id": "117c3a5a",
   "metadata": {},
   "outputs": [],
   "source": [
    "# File bloodtype1.txt records blood-types of patients (A, B, AB, O or OO) at a clinic. \n",
    "# Write a function bldcount() that reads the file with name name and reports (i.e., \n",
    "# prints) how many patients there are in each bloodtype.\n",
    "# >>> bldcount('bloodtype.txt')\n",
    "# There are 10 patients of blood type A.\n",
    "# There is one patient of blood type B.\n",
    "# There are 10 patients of blood type AB.\n",
    "# There are 12 patients of blood type O.\n",
    "# There are no patients of blood type OO.\n",
    "\n",
    "def bldcount(filename):\n",
    "    \n",
    "    #reading the file\n",
    "    x = open(filename,'r')\n",
    "    words = x.readline()\n",
    "    lst = []\n",
    "    blood_types = ['A','B','AB','O','OO']\n",
    "    \n",
    "    #Spliting the words and storing them in a list\n",
    "    lst.append(words.split(\" \"))\n",
    "    \n",
    "    #checking the count for each blood type\n",
    "    for blood_type in blood_types:\n",
    "        print(\"There are {} patients of blood type {}.\".format(lst[0].count(blood_type),blood_type))\n"
   ]
  },
  {
   "cell_type": "code",
   "execution_count": 7,
   "id": "29469b26",
   "metadata": {},
   "outputs": [
    {
     "ename": "NameError",
     "evalue": "name 'bloodtype1' is not defined",
     "output_type": "error",
     "traceback": [
      "\u001b[1;31m---------------------------------------------------------------------------\u001b[0m",
      "\u001b[1;31mNameError\u001b[0m                                 Traceback (most recent call last)",
      "Input \u001b[1;32mIn [7]\u001b[0m, in \u001b[0;36m<cell line: 1>\u001b[1;34m()\u001b[0m\n\u001b[1;32m----> 1\u001b[0m bldcount( \u001b[43mbloodtype1\u001b[49m\u001b[38;5;241m.\u001b[39mtxt)\n",
      "\u001b[1;31mNameError\u001b[0m: name 'bloodtype1' is not defined"
     ]
    }
   ],
   "source": [
    "bldcount( bloodtype1.txt)"
   ]
  },
  {
   "cell_type": "code",
   "execution_count": null,
   "id": "9073b287",
   "metadata": {},
   "outputs": [],
   "source": []
  },
  {
   "cell_type": "code",
   "execution_count": null,
   "id": "b5d79a85",
   "metadata": {},
   "outputs": [],
   "source": []
  },
  {
   "cell_type": "code",
   "execution_count": null,
   "id": "7bc37032",
   "metadata": {},
   "outputs": [],
   "source": []
  },
  {
   "cell_type": "code",
   "execution_count": null,
   "id": "322b942d",
   "metadata": {},
   "outputs": [],
   "source": []
  }
 ],
 "metadata": {
  "kernelspec": {
   "display_name": "Python 3 (ipykernel)",
   "language": "python",
   "name": "python3"
  },
  "language_info": {
   "codemirror_mode": {
    "name": "ipython",
    "version": 3
   },
   "file_extension": ".py",
   "mimetype": "text/x-python",
   "name": "python",
   "nbconvert_exporter": "python",
   "pygments_lexer": "ipython3",
   "version": "3.9.12"
  }
 },
 "nbformat": 4,
 "nbformat_minor": 5
}
